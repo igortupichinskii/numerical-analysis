{
 "cells": [
  {
   "cell_type": "code",
   "execution_count": 2,
   "id": "71b6c31a-b82d-4971-ac32-43a938d1ac3a",
   "metadata": {},
   "outputs": [],
   "source": [
    "import numpy as np\n",
    "import sympy as sp\n",
    "from IPython.display import display, Math"
   ]
  },
  {
   "cell_type": "code",
   "execution_count": 10,
   "id": "4652afb7-5259-4aa9-a70c-6a3cdb17ee3d",
   "metadata": {},
   "outputs": [
    {
     "name": "stdout",
     "output_type": "stream",
     "text": [
      "829.0359438172947\n",
      "8.28604027321514\n",
      "8.290359438172946\n"
     ]
    }
   ],
   "source": [
    "N = 13\n",
    "alpha = 0.04\n",
    "lambd = 0.4 - alpha\n",
    "\n",
    "def Chebyshev_norm(v):\n",
    "    if v.ndim == 1:\n",
    "        return max(map(abs, v))\n",
    "    elif v.ndim == 2:\n",
    "        return max(map(lambda x: sum(map(abs, x)), v))\n",
    "\n",
    "A = np.array([[200 * (1 + 0.5 * N + alpha), 200 * (1 + 0.5 * N), 200 * (1 + 0.5 * N)],\n",
    "              [200.1 * (1 + 0.5 * N), 199.9 * (1 + 0.5 * N + alpha), 200 * (1 + 0.5 * N)],\n",
    "              [199.9 * (1 + 0.5 * N), 200 * (1 + 0.5 * N), 200.1 * (1 + 0.5 * N + alpha)]])\n",
    "\n",
    "b = np.array([200 * (3 + 1.5 * N + alpha), 200 * (3 + 1.5 * N + alpha), 200 * (3 + 1.5 * N + alpha)])\n",
    "db = np.array([2 * (3 + 1.5 * N + alpha), -2 * (3 + 1.5 * N + alpha), 2 * (3 + 1.5 * N + alpha)])\n",
    "A_inv = np.linalg.inv(A)\n",
    "cond_A = Chebyshev_norm(A) * Chebyshev_norm(A_inv)\n",
    "print(cond_A)\n",
    "\n",
    "x = A_inv @ b\n",
    "dx = A_inv @ db\n",
    "print(Chebyshev_norm(dx)/Chebyshev_norm(x))\n",
    "print(cond_A * Chebyshev_norm(db) / Chebyshev_norm(b))"
   ]
  },
  {
   "cell_type": "code",
   "execution_count": null,
   "id": "be192902-7f0e-416d-bc66-22ce967e09e0",
   "metadata": {},
   "outputs": [],
   "source": []
  }
 ],
 "metadata": {
  "kernelspec": {
   "display_name": "Python 3 (ipykernel)",
   "language": "python",
   "name": "python3"
  },
  "language_info": {
   "codemirror_mode": {
    "name": "ipython",
    "version": 3
   },
   "file_extension": ".py",
   "mimetype": "text/x-python",
   "name": "python",
   "nbconvert_exporter": "python",
   "pygments_lexer": "ipython3",
   "version": "3.10.4"
  }
 },
 "nbformat": 4,
 "nbformat_minor": 5
}
