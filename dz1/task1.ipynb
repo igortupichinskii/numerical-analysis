{
 "cells": [
  {
   "cell_type": "code",
   "execution_count": 51,
   "id": "ed26364c",
   "metadata": {},
   "outputs": [],
   "source": [
    "import sympy as sp\n",
    "from IPython.display import display, Math\n",
    "from typing import overload, Union\n",
    "import numpy as np"
   ]
  },
  {
   "cell_type": "code",
   "execution_count": 63,
   "id": "d44aed41",
   "metadata": {},
   "outputs": [],
   "source": [
    "def showLatex(a, strBeforeEq = '', makeLatexCodeVisible = False):\n",
    "    if makeLatexCodeVisible:\n",
    "        display(strBeforeEq + sp.latex(a))\n",
    "    display(Math(fr'{strBeforeEq}{sp.latex(a)}'))\n",
    "\n",
    "@overload\n",
    "def calculateChebyshevsNorm(a: sp.Matrix) -> float: ...\n",
    "\n",
    "@overload\n",
    "def calculateChebyshevsNorm(a: sp.Array) -> float: ...\n",
    "\n",
    "def calculateChebyshevsNorm(a: Union[sp.Matrix, sp.Array]) -> float:\n",
    "    if isinstance(a, sp.Matrix):\n",
    "        sums = []\n",
    "        for i in range(a.rows):\n",
    "            row_sum = 0\n",
    "            for j in range(a.cols):\n",
    "                row_sum += abs(a[i, j])\n",
    "            sums.append(row_sum)\n",
    "        return max(sums)\n",
    "    elif isinstance(a, sp.Array):\n",
    "        maxi = 0\n",
    "        for i in a:\n",
    "            maxi = max(maxi, abs(i))\n",
    "        return maxi\n",
    "    else:\n",
    "        raise TypeError(f\"Unsupported type: {type(a)}. Expected Matrix or Array.\")\n"
   ]
  },
  {
   "cell_type": "code",
   "execution_count": 65,
   "id": "b42d1240",
   "metadata": {},
   "outputs": [
    {
     "data": {
      "text/latex": [
       "$\\displaystyle A = \\left[\\begin{matrix}1908.0 & 1900.0 & 1900.0\\\\1900.95 & 1907.046 & 1900.0\\\\1899.05 & 1900.0 & 1908.954\\end{matrix}\\right]$"
      ],
      "text/plain": [
       "<IPython.core.display.Math object>"
      ]
     },
     "metadata": {},
     "output_type": "display_data"
    },
    {
     "data": {
      "text/latex": [
       "$\\displaystyle b = \\left[\\begin{matrix}5708.0\\\\5708.0\\\\5708.0\\end{matrix}\\right]$"
      ],
      "text/plain": [
       "<IPython.core.display.Math object>"
      ]
     },
     "metadata": {},
     "output_type": "display_data"
    }
   ],
   "source": [
    "N = 17\n",
    "alpha = (54-50)/100\n",
    "\n",
    "A = sp.Matrix([\n",
    "    [200*(1+0.5*N+alpha), 200*(1+0.5*N), 200*(1+0.5*N)],\n",
    "    [200.1*(1+0.5*N), 199.9*(1+0.5*N+alpha), 200*(1+0.5*N)],\n",
    "    [199.9*(1+0.5*N), 200*(1+0.5*N), 200.1*(1+0.5*N+alpha)]\n",
    "])\n",
    "\n",
    "B = sp.Matrix([200*(3+1.5*N+alpha), 200*(3+1.5*N+alpha), 200*(3+1.5*N+alpha)])\n",
    "\n",
    "showLatex(A, \"A = \")\n",
    "showLatex(B, \"b = \")\n",
    "# A_obr = A.inv()\n",
    "# showLatex(A_obr)"
   ]
  },
  {
   "cell_type": "code",
   "execution_count": 71,
   "id": "63ad3a00",
   "metadata": {},
   "outputs": [
    {
     "data": {
      "text/latex": [
       "$\\displaystyle A^{-1} = \\left[\\begin{matrix}0.08459 & -0.04724 & -0.03717\\\\-0.05729 & 0.09466 & -0.03719\\\\-0.02713 & -0.04722 & 0.07452\\end{matrix}\\right]$"
      ],
      "text/plain": [
       "<IPython.core.display.Math object>"
      ]
     },
     "metadata": {},
     "output_type": "display_data"
    },
    {
     "name": "stdout",
     "output_type": "stream",
     "text": [
      "cond A =  1079.61370211792\n"
     ]
    }
   ],
   "source": [
    "# определим число обусловленности матрицы A\n",
    "A_obr = A.inv()\n",
    "for i in range(3):\n",
    "    for j in range(3):\n",
    "        A_obr[i, j] = A_obr[i, j].round(5)\n",
    "showLatex(A_obr, \"A^{-1} = \")\n",
    "\n",
    "cond_A = calculateChebyshevsNorm(A)*calculateChebyshevsNorm(A_obr)\n",
    "print(\"cond A = \", cond_A)"
   ]
  },
  {
   "cell_type": "code",
   "execution_count": 76,
   "id": "b6d2d828",
   "metadata": {},
   "outputs": [
    {
     "data": {
      "text/latex": [
       "$\\displaystyle x = \\left[\\begin{matrix}1.02884\\\\1.02611\\\\0.97032\\end{matrix}\\right]$"
      ],
      "text/plain": [
       "<IPython.core.display.Math object>"
      ]
     },
     "metadata": {},
     "output_type": "display_data"
    },
    {
     "data": {
      "text/latex": [
       "$\\displaystyle \\Delta x = \\left[\\begin{matrix}5.40318\\\\-10.7961\\\\5.40036\\end{matrix}\\right]$"
      ],
      "text/plain": [
       "<IPython.core.display.Math object>"
      ]
     },
     "metadata": {},
     "output_type": "display_data"
    }
   ],
   "source": [
    "def MultMatrOnVec(a: sp.Matrix, b: sp.Matrix):\n",
    "    rez = [0, 0, 0]\n",
    "    for i in range(3):\n",
    "        for j in range(3):\n",
    "            rez[i] += a[i, j]*b[j]\n",
    "    return sp.Matrix(rez)\n",
    "\n",
    "x = MultMatrOnVec(A_obr, B)\n",
    "for i in range(3):\n",
    "    x[i] = x[i].round(5)\n",
    "showLatex(x, strBeforeEq=\"x = \")\n",
    "\n",
    "delta_B = sp.Matrix([200*(3+1.5*N+alpha)*0.01, -200*(3+1.5*N+alpha)*0.01, 200*(3+1.5*N+alpha)*0.01])\n",
    "delta_x = MultMatrOnVec(A_obr, delta_B)\n",
    "for i in range(3):\n",
    "    delta_x[i] = delta_x[i].round(5)\n",
    "showLatex(delta_x, \"\\Delta x = \")"
   ]
  },
  {
   "cell_type": "code",
   "execution_count": 77,
   "id": "164ef3bf",
   "metadata": {},
   "outputs": [
    {
     "name": "stdout",
     "output_type": "stream",
     "text": [
      "10.49347\n",
      "10.7961370211792\n"
     ]
    }
   ],
   "source": [
    "#Проверим выполнение неравенства\n",
    "\n",
    "print(calculateChebyshevsNorm(delta_x)/calculateChebyshevsNorm(x))\n",
    "print(cond_A*calculateChebyshevsNorm(delta_B)/calculateChebyshevsNorm(B))\n",
    "#неравентсво выполняется"
   ]
  }
 ],
 "metadata": {
  "kernelspec": {
   "display_name": "Python 3",
   "language": "python",
   "name": "python3"
  },
  "language_info": {
   "codemirror_mode": {
    "name": "ipython",
    "version": 3
   },
   "file_extension": ".py",
   "mimetype": "text/x-python",
   "name": "python",
   "nbconvert_exporter": "python",
   "pygments_lexer": "ipython3",
   "version": "3.10.11"
  }
 },
 "nbformat": 4,
 "nbformat_minor": 5
}
