{
 "cells": [
  {
   "cell_type": "code",
   "execution_count": 38,
   "id": "ed26364c",
   "metadata": {},
   "outputs": [],
   "source": [
    "import numpy as np\n",
    "import sympy as sp\n",
    "from IPython.display import display, Math"
   ]
  },
  {
   "cell_type": "code",
   "execution_count": 39,
   "id": "d44aed41",
   "metadata": {},
   "outputs": [],
   "source": [
    "def showLatex(a):\n",
    "    display(Math(sp.latex(a)))\n",
    "\n",
    "def calculateNormMatr(a: sp.Matrix):\n",
    "    sums = []\n",
    "    for i in range(3):\n",
    "        sum = 0\n",
    "        for j in range(3):\n",
    "            sum += sp.Abs(a[i, j])\n",
    "        sums.append(sum)\n",
    "    return max(sums)\n",
    "\n",
    "def calculateNormVec(a: sp.Array):\n",
    "    return max(a)\n"
   ]
  },
  {
   "cell_type": "code",
   "execution_count": null,
   "id": "b42d1240",
   "metadata": {},
   "outputs": [
    {
     "data": {
      "text/latex": [
       "$\\displaystyle \\left[\\begin{matrix}1908.0 & 1900.0 & 1900.0\\\\1900.95 & 1907.046 & 1900.0\\\\1899.05 & 1900.0 & 1908.954\\end{matrix}\\right]$"
      ],
      "text/plain": [
       "<IPython.core.display.Math object>"
      ]
     },
     "metadata": {},
     "output_type": "display_data"
    },
    {
     "data": {
      "text/latex": [
       "$\\displaystyle \\left[\\begin{matrix}0.0845887819338424 & -0.0472399588159809 & -0.0371736374600629\\\\-0.05728769335317 & 0.0946577193226455 & -0.0371947408591319\\\\-0.0271309360835517 & -0.0472188554169131 & 0.074524898897974\\end{matrix}\\right]$"
      ],
      "text/plain": [
       "<IPython.core.display.Math object>"
      ]
     },
     "metadata": {},
     "output_type": "display_data"
    }
   ],
   "source": [
    "N = 17\n",
    "alpha = (54-50)/100\n",
    "\n",
    "A = sp.Matrix([\n",
    "    [200*(1+0.5*N+alpha), 200*(1+0.5*N), 200*(1+0.5*N)],\n",
    "    [200.1*(1+0.5*N), 199.9*(1+0.5*N+alpha), 200*(1+0.5*N)],\n",
    "    [199.9*(1+0.5*N), 200*(1+0.5*N), 200.1*(1+0.5*N+alpha)]\n",
    "])\n",
    "\n",
    "B = sp.Array([200*(3+1.5*N+alpha), 200*(3+1.5*N+alpha), 200*(3+1.5*N+alpha)])\n",
    "\n",
    "showLatex(A)\n",
    "A_obr = A.inv()\n",
    "showLatex(A_obr)"
   ]
  },
  {
   "cell_type": "code",
   "execution_count": 41,
   "id": "b83cda1a",
   "metadata": {},
   "outputs": [
    {
     "name": "stdout",
     "output_type": "stream",
     "text": [
      "5708.00400000000\n"
     ]
    }
   ],
   "source": [
    "print(calculateNormMatr(A))"
   ]
  }
 ],
 "metadata": {
  "kernelspec": {
   "display_name": "Python 3",
   "language": "python",
   "name": "python3"
  },
  "language_info": {
   "codemirror_mode": {
    "name": "ipython",
    "version": 3
   },
   "file_extension": ".py",
   "mimetype": "text/x-python",
   "name": "python",
   "nbconvert_exporter": "python",
   "pygments_lexer": "ipython3",
   "version": "3.10.11"
  }
 },
 "nbformat": 4,
 "nbformat_minor": 5
}
