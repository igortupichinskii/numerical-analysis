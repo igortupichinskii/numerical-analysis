{
 "cells": [
  {
   "cell_type": "code",
   "execution_count": 590,
   "id": "7c639a56",
   "metadata": {},
   "outputs": [],
   "source": [
    "import sympy as sp\n",
    "from IPython.display import display, Math\n",
    "from typing import overload, Union\n",
    "import numpy as np"
   ]
  },
  {
   "cell_type": "code",
   "execution_count": 591,
   "id": "ca9ac1b7",
   "metadata": {},
   "outputs": [],
   "source": [
    "def showLatex(a, makeLatexCodeVisible = False, strBeforeEq = ''):\n",
    "    if makeLatexCodeVisible:\n",
    "        display(strBeforeEq + sp.latex(a))\n",
    "    else:\n",
    "        display(Math(fr'{strBeforeEq}{sp.latex(a)}'))\n",
    "\n",
    "@overload\n",
    "def calculateChebyshevsNorm(a: sp.Matrix) -> float: ...\n",
    "\n",
    "@overload\n",
    "def calculateChebyshevsNorm(a: sp.Array) -> float: ...\n",
    "\n",
    "def calculateChebyshevsNorm(a: Union[sp.Matrix, sp.Array]) -> float:\n",
    "    if isinstance(a, sp.Matrix):\n",
    "        sums = []\n",
    "        for i in range(a.rows):\n",
    "            row_sum = 0\n",
    "            for j in range(a.cols):\n",
    "                row_sum += abs(a[i, j])\n",
    "            sums.append(row_sum)\n",
    "        return max(sums)\n",
    "    elif isinstance(a, sp.Array):\n",
    "        maxi = 0\n",
    "        for i in a:\n",
    "            maxi = max(maxi, abs(i))\n",
    "        return maxi\n",
    "    else:\n",
    "        raise TypeError(f\"Unsupported type: {type(a)}. Expected Matrix or Array.\")\n"
   ]
  },
  {
   "cell_type": "code",
   "execution_count": 592,
   "id": "795359f1",
   "metadata": {},
   "outputs": [],
   "source": [
    "N = 17\n",
    "alpha = (55-54)/100\n",
    "lam = 0.3-alpha\n",
    "#F = sp.arctg\n",
    "a = 0\n",
    "b = 1\n",
    "\n",
    "h = (b-a)/10\n",
    "\n",
    "t = [a+h/2+h*i for i in range(10)]\n",
    "\n",
    "s = [a+h/2+h*i for i in range(10)]\n"
   ]
  },
  {
   "cell_type": "code",
   "execution_count": 609,
   "id": "1ccf69ab",
   "metadata": {},
   "outputs": [
    {
     "data": {
      "text/plain": [
       "'A = \\\\left[\\\\begin{matrix}0.00025 & 0.00075 & 0.00125 & 0.00175 & 0.00225 & 0.00275 & 0.00325 & 0.00375 & 0.00425 & 0.00475\\\\\\\\0.00075 & 0.00225 & 0.00375 & 0.00525 & 0.00674 & 0.00823 & 0.00972 & 0.0112 & 0.01268 & 0.01415\\\\\\\\0.00125 & 0.00375 & 0.00624 & 0.00873 & 0.0112 & 0.01366 & 0.01611 & 0.01853 & 0.02094 & 0.02332\\\\\\\\0.00175 & 0.00525 & 0.00873 & 0.01219 & 0.01562 & 0.01902 & 0.02237 & 0.02567 & 0.02892 & 0.0321\\\\\\\\0.00225 & 0.00674 & 0.0112 & 0.01562 & 0.01998 & 0.02426 & 0.02846 & 0.03255 & 0.03653 & 0.0404\\\\\\\\0.00275 & 0.00823 & 0.01366 & 0.01902 & 0.02426 & 0.02937 & 0.03433 & 0.03912 & 0.04373 & 0.04815\\\\\\\\0.00325 & 0.00972 & 0.01611 & 0.02237 & 0.02846 & 0.03433 & 0.03998 & 0.04536 & 0.05048 & 0.05532\\\\\\\\0.00375 & 0.0112 & 0.01853 & 0.02567 & 0.03255 & 0.03912 & 0.04536 & 0.05124 & 0.05675 & 0.06191\\\\\\\\0.00425 & 0.01268 & 0.02094 & 0.02892 & 0.03653 & 0.04373 & 0.05048 & 0.05675 & 0.06257 & 0.06793\\\\\\\\0.00475 & 0.01415 & 0.02332 & 0.0321 & 0.0404 & 0.04815 & 0.05532 & 0.06191 & 0.06793 & 0.07342\\\\end{matrix}\\\\right]'"
      ]
     },
     "metadata": {},
     "output_type": "display_data"
    }
   ],
   "source": [
    "A = [[np.round(np.atan(s[i]*t[j])*h, 5) for j in range(10)] for i in range(10)]\n",
    "showLatex(sp.Matrix(A), strBeforeEq=\"A = \", makeLatexCodeVisible=True)\n"
   ]
  },
  {
   "cell_type": "code",
   "execution_count": 594,
   "id": "fb6e0eea",
   "metadata": {},
   "outputs": [
    {
     "data": {
      "text/latex": [
       "$\\displaystyle E+\\lambda A = \\left[\\begin{matrix}1.00007 & 0.00022 & 0.00036 & 0.00051 & 0.00065 & 0.0008 & 0.00094 & 0.00109 & 0.00123 & 0.00138\\\\0.00022 & 1.00065 & 0.00109 & 0.00152 & 0.00195 & 0.00239 & 0.00282 & 0.00325 & 0.00368 & 0.0041\\\\0.00036 & 0.00109 & 1.00181 & 0.00253 & 0.00325 & 0.00396 & 0.00467 & 0.00537 & 0.00607 & 0.00676\\\\0.00051 & 0.00152 & 0.00253 & 1.00354 & 0.00453 & 0.00552 & 0.00649 & 0.00744 & 0.00839 & 0.00931\\\\0.00065 & 0.00195 & 0.00325 & 0.00453 & 1.00579 & 0.00704 & 0.00825 & 0.00944 & 0.01059 & 0.01172\\\\0.0008 & 0.00239 & 0.00396 & 0.00552 & 0.00704 & 1.00852 & 0.00996 & 0.01134 & 0.01268 & 0.01396\\\\0.00094 & 0.00282 & 0.00467 & 0.00649 & 0.00825 & 0.00996 & 1.01159 & 0.01315 & 0.01464 & 0.01604\\\\0.00109 & 0.00325 & 0.00537 & 0.00744 & 0.00944 & 0.01134 & 0.01315 & 1.01486 & 0.01646 & 0.01795\\\\0.00123 & 0.00368 & 0.00607 & 0.00839 & 0.01059 & 0.01268 & 0.01464 & 0.01646 & 1.01815 & 0.0197\\\\0.00138 & 0.0041 & 0.00676 & 0.00931 & 0.01172 & 0.01396 & 0.01604 & 0.01795 & 0.0197 & 1.02129\\end{matrix}\\right]$"
      ],
      "text/plain": [
       "<IPython.core.display.Math object>"
      ]
     },
     "metadata": {},
     "output_type": "display_data"
    }
   ],
   "source": [
    "E = ([[1.0*(i==j) for j in range(10)] for i in range(10)])\n",
    "# showLatex(E)\n",
    "\n",
    "#eq = E+lam*A\n",
    "eq = [[np.round((E[i][j]+lam*A[i][j]), 5) for j in range(10)] for i in range(10)]\n",
    "showLatex(sp.Matrix(eq), strBeforeEq=\"E+\\lambda A = \")"
   ]
  },
  {
   "cell_type": "code",
   "execution_count": 595,
   "id": "f823884d",
   "metadata": {},
   "outputs": [
    {
     "data": {
      "text/latex": [
       "$\\displaystyle (E+\\lambda A)^{-1} = \\left[\\begin{matrix}0.99994 & -0.0002 & -0.00033 & -0.00047 & -0.00059 & -0.00073 & -0.00086 & -0.001 & -0.00113 & -0.00127\\\\-0.0002 & 0.99941 & -0.001 & -0.00139 & -0.00178 & -0.00219 & -0.00259 & -0.00299 & -0.00339 & -0.00378\\\\-0.00033 & -0.001 & 0.99835 & -0.00231 & -0.00297 & -0.00363 & -0.00429 & -0.00494 & -0.00559 & -0.00624\\\\-0.00047 & -0.00139 & -0.00231 & 0.99676 & -0.00415 & -0.00506 & -0.00596 & -0.00684 & -0.00773 & -0.00859\\\\-0.00059 & -0.00178 & -0.00297 & -0.00415 & 0.99469 & -0.00646 & -0.00758 & -0.00868 & -0.00975 & -0.0108\\\\-0.00073 & -0.00219 & -0.00363 & -0.00506 & -0.00646 & 0.99218 & -0.00915 & -0.01043 & -0.01167 & -0.01286\\\\-0.00086 & -0.00259 & -0.00429 & -0.00596 & -0.00758 & -0.00915 & 0.98935 & -0.01209 & -0.01347 & -0.01476\\\\-0.001 & -0.00299 & -0.00494 & -0.00684 & -0.00868 & -0.01043 & -0.01209 & 0.98634 & -0.01513 & -0.0165\\\\-0.00113 & -0.00339 & -0.00559 & -0.00773 & -0.00975 & -0.01167 & -0.01347 & -0.01513 & 0.98332 & -0.0181\\\\-0.00127 & -0.00378 & -0.00624 & -0.00859 & -0.0108 & -0.01286 & -0.01476 & -0.0165 & -0.0181 & 0.98046\\end{matrix}\\right]$"
      ],
      "text/plain": [
       "<IPython.core.display.Math object>"
      ]
     },
     "metadata": {},
     "output_type": "display_data"
    }
   ],
   "source": [
    "eq_obr = sp.Matrix(eq).inv()\n",
    "for i in range(10):\n",
    "    for j in range(10):\n",
    "        eq_obr[i, j] = eq_obr[i, j].round(5)\n",
    "showLatex(eq_obr, strBeforeEq=\"(E+\\lambda A)^{-1} = \")"
   ]
  },
  {
   "cell_type": "code",
   "execution_count": 596,
   "id": "34b11d33",
   "metadata": {},
   "outputs": [
    {
     "data": {
      "text/latex": [
       "$\\displaystyle ||E + \\lambda A|| = 1.12221$"
      ],
      "text/plain": [
       "<IPython.core.display.Math object>"
      ]
     },
     "metadata": {},
     "output_type": "display_data"
    },
    {
     "data": {
      "text/latex": [
       "$\\displaystyle ||(E + \\lambda A)^{-1}|| = 1.0734$"
      ],
      "text/plain": [
       "<IPython.core.display.Math object>"
      ]
     },
     "metadata": {},
     "output_type": "display_data"
    },
    {
     "data": {
      "text/latex": [
       "$\\displaystyle cond = 1.20453796331406$"
      ],
      "text/plain": [
       "<IPython.core.display.Math object>"
      ]
     },
     "metadata": {},
     "output_type": "display_data"
    }
   ],
   "source": [
    "norm_eq = calculateChebyshevsNorm(sp.Matrix(eq))\n",
    "norm_eq_obr = calculateChebyshevsNorm(eq_obr)\n",
    "\n",
    "cond = norm_eq * norm_eq_obr\n",
    "showLatex(norm_eq, strBeforeEq='||E + \\lambda A|| = ')\n",
    "showLatex(norm_eq_obr, strBeforeEq='||(E + \\lambda A)^{-1}|| = ')\n",
    "showLatex(cond, strBeforeEq='cond = ')"
   ]
  },
  {
   "cell_type": "code",
   "execution_count": 597,
   "id": "d41a8bec",
   "metadata": {},
   "outputs": [
    {
     "data": {
      "text/latex": [
       "$\\displaystyle b = \\left[\\begin{matrix}1.00725\\\\1.02167\\\\1.03587\\\\1.04978\\\\1.06321\\\\1.07617\\\\1.08855\\\\1.10035\\\\1.11159\\\\1.12221\\end{matrix}\\right]$"
      ],
      "text/plain": [
       "<IPython.core.display.Math object>"
      ]
     },
     "metadata": {},
     "output_type": "display_data"
    }
   ],
   "source": [
    "x_zv = [1 for i in range(10)]\n",
    "def MultMatrOnVec(a: sp.Matrix, b: sp.Array):\n",
    "    rez = np.zeros(10)\n",
    "    for i in range(10):\n",
    "        for k in range(10):\n",
    "            # print(rez[i])\n",
    "            rez[i] += a[i, k]*b[k]\n",
    "            # print(rez[i])\n",
    "        # print()\n",
    "    return sp.Matrix(rez)\n",
    "\n",
    "\n",
    "B = MultMatrOnVec(sp.Matrix(eq), x_zv)\n",
    "showLatex(B, strBeforeEq=\"b = \")"
   ]
  },
  {
   "cell_type": "code",
   "execution_count": 598,
   "id": "35b30b6b",
   "metadata": {},
   "outputs": [
    {
     "data": {
      "text/latex": [
       "$\\displaystyle x = \\left[\\begin{matrix}1.00002\\\\1.0\\\\1.0\\\\0.99999\\\\1.0\\\\1.0\\\\1.0\\\\1.00001\\\\0.99999\\\\0.99999\\end{matrix}\\right]$"
      ],
      "text/plain": [
       "<IPython.core.display.Math object>"
      ]
     },
     "metadata": {},
     "output_type": "display_data"
    }
   ],
   "source": [
    "x = MultMatrOnVec(eq_obr, B)\n",
    "for i in range(10):\n",
    "    x[i] = x[i].round(5)\n",
    "showLatex(x, strBeforeEq='x = ')"
   ]
  },
  {
   "cell_type": "code",
   "execution_count": 599,
   "id": "07653762",
   "metadata": {},
   "outputs": [
    {
     "data": {
      "text/latex": [
       "$\\displaystyle \\Delta b = \\left[\\begin{matrix}0.01007\\\\-0.01022\\\\0.01036\\\\-0.0105\\\\0.01063\\\\-0.01076\\\\0.01089\\\\-0.011\\\\0.01112\\\\-0.01122\\end{matrix}\\right]$"
      ],
      "text/plain": [
       "<IPython.core.display.Math object>"
      ]
     },
     "metadata": {},
     "output_type": "display_data"
    }
   ],
   "source": [
    "delta_b = 0.01*sp.Matrix([B[i]*(-1)**i for i in range(10)])\n",
    "for i in range(10):\n",
    "    delta_b[i] = delta_b[i].round(5)\n",
    "showLatex(delta_b, strBeforeEq=\"\\Delta b = \")"
   ]
  },
  {
   "cell_type": "code",
   "execution_count": 600,
   "id": "c087a519",
   "metadata": {},
   "outputs": [
    {
     "data": {
      "text/latex": [
       "$\\displaystyle \\Delta x = \\left[\\begin{matrix}0.01008\\\\-0.0102\\\\0.0104\\\\-0.01045\\\\0.01069\\\\-0.01068\\\\0.01098\\\\-0.0109\\\\0.01123\\\\-0.01111\\end{matrix}\\right]$"
      ],
      "text/plain": [
       "<IPython.core.display.Math object>"
      ]
     },
     "metadata": {},
     "output_type": "display_data"
    }
   ],
   "source": [
    "delta_x = MultMatrOnVec(eq_obr, delta_b)\n",
    "for i in range(10):\n",
    "    delta_x[i] = delta_x[i].round(5)\n",
    "showLatex(delta_x, strBeforeEq=\"\\Delta x = \")"
   ]
  },
  {
   "cell_type": "code",
   "execution_count": 601,
   "id": "671056c6",
   "metadata": {},
   "outputs": [
    {
     "data": {
      "text/latex": [
       "$\\displaystyle x + \\Delta x = \\left[\\begin{matrix}1.0101\\\\0.9898\\\\1.0104\\\\0.98954\\\\1.01069\\\\0.98932\\\\1.01098\\\\0.98911\\\\1.0112\\\\0.98888\\end{matrix}\\right]$"
      ],
      "text/plain": [
       "<IPython.core.display.Math object>"
      ]
     },
     "metadata": {},
     "output_type": "display_data"
    }
   ],
   "source": [
    "rez = sp.Matrix([x[i]+delta_x[i] for i in range(10)])\n",
    "for i in range(10):\n",
    "    rez[i] = rez[i].round(5)\n",
    "showLatex(rez, strBeforeEq=\"x + \\Delta x = \")"
   ]
  },
  {
   "cell_type": "code",
   "execution_count": 602,
   "id": "46719a33",
   "metadata": {},
   "outputs": [
    {
     "data": {
      "text/latex": [
       "$\\displaystyle \\frac{|| \\Delta x ||}{||x||} = 0.0112298$"
      ],
      "text/plain": [
       "<IPython.core.display.Math object>"
      ]
     },
     "metadata": {},
     "output_type": "display_data"
    },
    {
     "data": {
      "text/latex": [
       "$\\displaystyle cond(E+\\lambda A)\\frac{|| \\Delta b ||}{||b||} = 0.0120431023151468$"
      ],
      "text/plain": [
       "<IPython.core.display.Math object>"
      ]
     },
     "metadata": {},
     "output_type": "display_data"
    }
   ],
   "source": [
    "norm_x = calculateChebyshevsNorm(x)\n",
    "norm_del_x = calculateChebyshevsNorm(delta_x)\n",
    "\n",
    "norm_b = calculateChebyshevsNorm(B)\n",
    "norm_del_b = calculateChebyshevsNorm(delta_b)\n",
    "\n",
    "showLatex(norm_del_x/norm_x, strBeforeEq=\"\\\\frac{|| \\Delta x ||}{||x||} = \")\n",
    "showLatex(cond*norm_del_b/norm_b, strBeforeEq=\"cond(E+\\lambda A)\\\\frac{|| \\Delta b ||}{||b||} = \")"
   ]
  },
  {
   "cell_type": "code",
   "execution_count": 603,
   "id": "b923a750",
   "metadata": {},
   "outputs": [
    {
     "data": {
      "text/latex": [
       "$\\displaystyle B = \\left[\\begin{matrix}0.98304 & 0.00022 & 0.00035 & 0.0005 & 0.00064 & 0.00079 & 0.00092 & 0.00107 & 0.00121 & 0.00136\\\\0.00022 & 0.98932 & 0.00108 & 0.0015 & 0.00193 & 0.00236 & 0.00279 & 0.00321 & 0.00364 & 0.00405\\\\0.00034 & 0.00104 & 0.95754 & 0.00242 & 0.00311 & 0.00379 & 0.00446 & 0.00513 & 0.0058 & 0.00646\\\\0.00049 & 0.00146 & 0.00243 & 0.96561 & 0.00436 & 0.00531 & 0.00624 & 0.00716 & 0.00807 & 0.00896\\\\0.00061 & 0.00182 & 0.00303 & 0.00422 & 0.93663 & 0.00656 & 0.00768 & 0.00879 & 0.00986 & 0.01091\\\\0.00075 & 0.00224 & 0.00372 & 0.00518 & 0.00661 & 0.9466 & 0.00935 & 0.01064 & 0.0119 & 0.0131\\\\0.00085 & 0.00256 & 0.00425 & 0.0059 & 0.0075 & 0.00906 & 0.9201 & 0.01196 & 0.01332 & 0.01459\\\\0.001 & 0.00298 & 0.00493 & 0.00683 & 0.00867 & 0.01041 & 0.01207 & 0.93162 & 0.01511 & 0.01648\\\\0.0011 & 0.00328 & 0.00541 & 0.00747 & 0.00943 & 0.01129 & 0.01304 & 0.01466 & 0.90687 & 0.01755\\\\0.00124 & 0.00369 & 0.00608 & 0.00838 & 0.01055 & 0.01257 & 0.01444 & 0.01616 & 0.01773 & 0.91926\\end{matrix}\\right]$"
      ],
      "text/plain": [
       "<IPython.core.display.Math object>"
      ]
     },
     "metadata": {},
     "output_type": "display_data"
    }
   ],
   "source": [
    "matrB = sp.Matrix([[eq[i][j]/(B[i]+delta_b[i]) for j in range(10)] for i in range(10)])\n",
    "for i in range(10):\n",
    "    for j in range(10):\n",
    "        matrB[i, j] = matrB[i, j].round(5)\n",
    "showLatex(matrB, strBeforeEq=\"B = \")\n"
   ]
  },
  {
   "cell_type": "code",
   "execution_count": 604,
   "id": "2cf31c58",
   "metadata": {},
   "outputs": [
    {
     "data": {
      "text/latex": [
       "$\\displaystyle B^{-1} = \\left[\\begin{matrix}1.0173 & -0.00021 & -0.00034 & -0.00048 & -0.00064 & -0.00078 & -0.00094 & -0.00109 & -0.00127 & -0.00142\\\\-0.00021 & 1.0108 & -0.00104 & -0.00144 & -0.00192 & -0.00233 & -0.00285 & -0.00325 & -0.00381 & -0.0042\\\\-0.00033 & -0.001 & 1.0445 & -0.00241 & -0.0032 & -0.00387 & -0.00471 & -0.00538 & -0.00627 & -0.00693\\\\-0.00047 & -0.0014 & -0.00242 & 1.0359 & -0.00446 & -0.00539 & -0.00655 & -0.00745 & -0.00867 & -0.00954\\\\-0.00061 & -0.00181 & -0.00312 & -0.00431 & 1.0681 & -0.00689 & -0.00833 & -0.00945 & -0.01094 & -0.012\\\\-0.00074 & -0.00221 & -0.0038 & -0.00526 & -0.00694 & 1.0571 & -0.01006 & -0.01136 & -0.0131 & -0.01428\\\\-0.00087 & -0.00261 & -0.00449 & -0.00619 & -0.00813 & -0.00975 & 1.0877 & -0.01317 & -0.01512 & -0.0164\\\\-0.00102 & -0.00302 & -0.00517 & -0.00711 & -0.00933 & -0.01111 & -0.01329 & 1.0745 & -0.01699 & -0.01834\\\\-0.00116 & -0.00343 & -0.00585 & -0.00803 & -0.01046 & -0.01243 & -0.01481 & -0.01649 & 1.104 & -0.02011\\\\-0.00129 & -0.00383 & -0.00652 & -0.00892 & -0.0116 & -0.0137 & -0.01623 & -0.01798 & -0.02031 & 1.0893\\end{matrix}\\right]$"
      ],
      "text/plain": [
       "<IPython.core.display.Math object>"
      ]
     },
     "metadata": {},
     "output_type": "display_data"
    }
   ],
   "source": [
    "matrB_obr = matrB.inv()\n",
    "for i in range(10):\n",
    "    for j in range(10):\n",
    "        matrB_obr[i, j] = matrB_obr[i, j].round(5)\n",
    "showLatex(matrB_obr, strBeforeEq=\"B^{-1} = \")"
   ]
  },
  {
   "cell_type": "code",
   "execution_count": 605,
   "id": "eed91862",
   "metadata": {},
   "outputs": [
    {
     "data": {
      "text/latex": [
       "$\\displaystyle x' = \\left[\\begin{matrix}1.01013\\\\0.98975\\\\1.0104\\\\0.98955\\\\1.01064\\\\0.98935\\\\1.01097\\\\0.98912\\\\1.01123\\\\0.98892\\end{matrix}\\right]$"
      ],
      "text/plain": [
       "<IPython.core.display.Math object>"
      ]
     },
     "metadata": {},
     "output_type": "display_data"
    }
   ],
   "source": [
    "new_x = MultMatrOnVec(matrB_obr, x_zv)\n",
    "for i in range(10):\n",
    "    new_x[i] = new_x[i].round(5)\n",
    "showLatex(new_x, strBeforeEq=\"x' = \")"
   ]
  },
  {
   "cell_type": "code",
   "execution_count": 606,
   "id": "d524845e",
   "metadata": {},
   "outputs": [
    {
     "data": {
      "text/latex": [
       "$\\displaystyle \\Delta b' = \\left[\\begin{matrix}0.01\\\\-0.01\\\\0.01\\\\-0.01\\\\0.01\\\\-0.01\\\\0.01\\\\-0.01\\\\0.01\\\\-0.01\\end{matrix}\\right]$"
      ],
      "text/plain": [
       "<IPython.core.display.Math object>"
      ]
     },
     "metadata": {},
     "output_type": "display_data"
    }
   ],
   "source": [
    "delta_b = sp.Matrix([(-1)**i*0.01 for i in range(10)])\n",
    "showLatex(delta_b, strBeforeEq=\"\\Delta b' = \")"
   ]
  },
  {
   "cell_type": "code",
   "execution_count": 607,
   "id": "5d67b754",
   "metadata": {},
   "outputs": [
    {
     "data": {
      "text/latex": [
       "$\\displaystyle \\Delta x' = \\left[\\begin{matrix}0.01018\\\\-0.01009\\\\0.0105\\\\-0.01035\\\\0.0108\\\\-0.01059\\\\0.01107\\\\-0.01081\\\\0.01132\\\\-0.01101\\end{matrix}\\right]$"
      ],
      "text/plain": [
       "<IPython.core.display.Math object>"
      ]
     },
     "metadata": {},
     "output_type": "display_data"
    }
   ],
   "source": [
    "delta_new_x = MultMatrOnVec(matrB_obr, delta_b)\n",
    "for i in range(10):\n",
    "    delta_new_x[i] = delta_new_x[i].round(5)\n",
    "showLatex(delta_new_x, strBeforeEq=\"\\Delta x' = \")"
   ]
  },
  {
   "cell_type": "code",
   "execution_count": 608,
   "id": "902c779a",
   "metadata": {},
   "outputs": [
    {
     "data": {
      "text/latex": [
       "$\\displaystyle ||\\Delta x || = 0.01123$"
      ],
      "text/plain": [
       "<IPython.core.display.Math object>"
      ]
     },
     "metadata": {},
     "output_type": "display_data"
    },
    {
     "data": {
      "text/latex": [
       "$\\displaystyle ||\\Delta x'|| = 0.01132$"
      ],
      "text/plain": [
       "<IPython.core.display.Math object>"
      ]
     },
     "metadata": {},
     "output_type": "display_data"
    }
   ],
   "source": [
    "norm_del_new_x = calculateChebyshevsNorm(delta_new_x)\n",
    "showLatex(norm_del_x, strBeforeEq=\"||\\Delta x || = \")\n",
    "showLatex(norm_del_new_x, strBeforeEq=\"||\\Delta x'|| = \")"
   ]
  }
 ],
 "metadata": {
  "kernelspec": {
   "display_name": "Python 3",
   "language": "python",
   "name": "python3"
  },
  "language_info": {
   "codemirror_mode": {
    "name": "ipython",
    "version": 3
   },
   "file_extension": ".py",
   "mimetype": "text/x-python",
   "name": "python",
   "nbconvert_exporter": "python",
   "pygments_lexer": "ipython3",
   "version": "3.10.11"
  }
 },
 "nbformat": 4,
 "nbformat_minor": 5
}
