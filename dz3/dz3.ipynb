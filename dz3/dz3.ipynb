{
 "cells": [
  {
   "cell_type": "code",
   "execution_count": 184,
   "id": "36fba06f",
   "metadata": {},
   "outputs": [],
   "source": [
    "import numpy as np\n",
    "import math"
   ]
  },
  {
   "cell_type": "code",
   "execution_count": 185,
   "id": "58c5e427",
   "metadata": {},
   "outputs": [],
   "source": [
    "def print_mat(mat):\n",
    "    for row in mat:\n",
    "        for j in range(len(row)-1):\n",
    "            print(f'{row[j]:.5f}','\\t', end=' & ',)\n",
    "        print(f'{row[-1]:.5f}', '\\\\\\\\')\n",
    "\n",
    "def print_vec(vec):\n",
    "    for elem in vec:\n",
    "        print(f'{elem:.5f}', end='\\\\\\\\ \\n')\n",
    "\n",
    "\n",
    "\n",
    "def ChebNormMat(mat):\n",
    "    return max([sum(abs(mat[i])) for i in range(len(mat))])\n",
    "def ChebNormVec(vec):\n",
    "    return max(abs(vec))"
   ]
  },
  {
   "cell_type": "code",
   "execution_count": 186,
   "id": "39e32c26",
   "metadata": {},
   "outputs": [
    {
     "name": "stdout",
     "output_type": "stream",
     "text": [
      "Vector B:\n",
      "13.20000\\\\ \n",
      "9.20000\\\\ \n",
      "15.20000\\\\ \n",
      "15.20000\\\\ \n"
     ]
    }
   ],
   "source": [
    "#вариант 12\n",
    "N = 12\n",
    "n = 54\n",
    "beta = 1 - 0.02*(58-n)\n",
    "A = [\n",
    "    [10*beta, -1, 2, 3],\n",
    "    [1, 10*beta, -3, 2],\n",
    "    [2, 3, 10*beta, 1],\n",
    "    [3, 2, 1, 10*beta]\n",
    "]\n",
    "\n",
    "# A = [\n",
    "#     [10*beta, 1, 2, 3],\n",
    "#     [1, 10*beta, 3, 2],\n",
    "#     [-2, 3, 10*beta, 1],\n",
    "#     [3, 2, 1, 10*beta]\n",
    "# ]\n",
    "\n",
    "x = [1, 1, 1, 1]\n",
    "b = np.dot(A, x)\n",
    "print(\"Vector B:\")\n",
    "print_vec(b)\n"
   ]
  },
  {
   "cell_type": "code",
   "execution_count": 187,
   "id": "f0dd7e31",
   "metadata": {},
   "outputs": [
    {
     "name": "stdout",
     "output_type": "stream",
     "text": [
      "Matrix D:\n",
      "0.10870 \t & 0.00000 \t & 0.00000 \t & 0.00000 \\\\\n",
      "0.00000 \t & 0.10870 \t & 0.00000 \t & 0.00000 \\\\\n",
      "0.00000 \t & 0.00000 \t & 0.10870 \t & 0.00000 \\\\\n",
      "0.00000 \t & 0.00000 \t & 0.00000 \t & 0.10870 \\\\\n"
     ]
    }
   ],
   "source": [
    "D = np.identity(4)/(10*beta)\n",
    "print(\"Matrix D:\")\n",
    "print_mat(D)"
   ]
  },
  {
   "cell_type": "code",
   "execution_count": 188,
   "id": "18352dbf",
   "metadata": {},
   "outputs": [
    {
     "name": "stdout",
     "output_type": "stream",
     "text": [
      "Matrix F:\n",
      "0.00000 \t & 0.10870 \t & -0.21739 \t & -0.32609 \\\\\n",
      "-0.10870 \t & 0.00000 \t & 0.32609 \t & -0.21739 \\\\\n",
      "-0.21739 \t & -0.32609 \t & 0.00000 \t & -0.10870 \\\\\n",
      "-0.32609 \t & -0.21739 \t & -0.10870 \t & 0.00000 \\\\\n",
      "\n",
      "\n",
      "Vector g:\n",
      "1.43478\\\\ \n",
      "1.00000\\\\ \n",
      "1.65217\\\\ \n",
      "1.65217\\\\ \n"
     ]
    }
   ],
   "source": [
    "F = np.identity(4) - np.dot(D, A)\n",
    "g = np.dot(D, b)\n",
    "print(\"Matrix F:\")\n",
    "print_mat(F)\n",
    "print(\"\\n\\nVector g:\")\n",
    "print_vec(g)"
   ]
  },
  {
   "cell_type": "code",
   "execution_count": 189,
   "id": "836f3feb",
   "metadata": {},
   "outputs": [
    {
     "name": "stdout",
     "output_type": "stream",
     "text": [
      "norm F =  0.6521739130434783\n"
     ]
    }
   ],
   "source": [
    "normF = ChebNormMat(F)\n",
    "print('norm F = ', normF)\n",
    "norm_g = ChebNormVec(g)"
   ]
  },
  {
   "cell_type": "code",
   "execution_count": 190,
   "id": "5abe41f3",
   "metadata": {},
   "outputs": [
    {
     "name": "stdout",
     "output_type": "stream",
     "text": [
      "k >= 14\n"
     ]
    }
   ],
   "source": [
    "eps = 0.01\n",
    "k = np.log(eps*(1-normF)/norm_g)/np.log(normF)\n",
    "print('k >=', round(k))\n"
   ]
  },
  {
   "cell_type": "code",
   "execution_count": 191,
   "id": "bd629cd6",
   "metadata": {},
   "outputs": [
    {
     "name": "stdout",
     "output_type": "stream",
     "text": [
      "1\n",
      "1.43478\\\\ \n",
      "1.00000\\\\ \n",
      "1.65217\\\\ \n",
      "1.65217\\\\ \n",
      "eps_i = 0.652174. Is bigger than 0.01? - True\n",
      "\n",
      "2\n",
      "0.64556\\\\ \n",
      "1.02363\\\\ \n",
      "0.83459\\\\ \n",
      "0.78733\\\\ \n",
      "eps_i = 0.354442. Is bigger than 0.01? - True\n",
      "\n",
      "3\n",
      "1.10787\\\\ \n",
      "1.03082\\\\ \n",
      "1.09246\\\\ \n",
      "1.12842\\\\ \n",
      "eps_i = 0.128421. Is bigger than 0.01? - True\n",
      "\n",
      "4\n",
      "0.94137\\\\ \n",
      "0.99051\\\\ \n",
      "0.95254\\\\ \n",
      "0.94807\\\\ \n",
      "eps_i = 0.058627. Is bigger than 0.01? - True\n",
      "\n",
      "5\n",
      "1.02622\\\\ \n",
      "1.00218\\\\ \n",
      "1.02148\\\\ \n",
      "1.02634\\\\ \n",
      "eps_i = 0.026340. Is bigger than 0.01? - True\n",
      "\n",
      "6\n",
      "0.98698\\\\ \n",
      "0.99843\\\\ \n",
      "0.99072\\\\ \n",
      "0.98864\\\\ \n",
      "eps_i = 0.013022. Is bigger than 0.01? - True\n",
      "\n",
      "7\n",
      "1.00555\\\\ \n",
      "1.00086\\\\ \n",
      "1.00458\\\\ \n",
      "1.00560\\\\ \n",
      "eps_i = 0.005596. Is bigger than 0.01? - False\n",
      "\n"
     ]
    }
   ],
   "source": [
    "xi = []\n",
    "xi.append([0, 0, 0, 0])\n",
    "for i in range(1, 8):\n",
    "    xi.append(np.dot(F, xi[i-1])+g)\n",
    "    resh = np.array([xi[i][j] - x[j] for j in range(4)])\n",
    "    epsi = ChebNormVec(resh)\n",
    "\n",
    "    print(i)\n",
    "    print_vec(xi[i])\n",
    "    print(f'eps_i = {epsi:.6f}. Is bigger than {eps}? - {epsi > eps}')\n",
    "    print()"
   ]
  },
  {
   "cell_type": "code",
   "execution_count": null,
   "id": "ec290c96",
   "metadata": {},
   "outputs": [],
   "source": []
  }
 ],
 "metadata": {
  "kernelspec": {
   "display_name": "Python 3",
   "language": "python",
   "name": "python3"
  },
  "language_info": {
   "codemirror_mode": {
    "name": "ipython",
    "version": 3
   },
   "file_extension": ".py",
   "mimetype": "text/x-python",
   "name": "python",
   "nbconvert_exporter": "python",
   "pygments_lexer": "ipython3",
   "version": "3.10.11"
  }
 },
 "nbformat": 4,
 "nbformat_minor": 5
}
